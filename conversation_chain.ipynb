{
 "cells": [
  {
   "cell_type": "code",
   "execution_count": 1,
   "metadata": {},
   "outputs": [],
   "source": [
    "from langchain.chains import ConversationChain\n",
    "from langchain_cohere import ChatCohere\n",
    "from langchain.chains.conversation.memory import ConversationBufferMemory"
   ]
  },
  {
   "cell_type": "code",
   "execution_count": 2,
   "metadata": {},
   "outputs": [],
   "source": [
    "# first initialize the large language model\n",
    "llm = ChatCohere(cohere_api_key='PKYJ9mWpadwNW8Oj44ftpOr6rKzBkzW6eT2iZhaC',temperature=0, verbose= True)\n",
    "\n",
    "# now initialize the conversation chain\n",
    "conversation = ConversationChain(llm=llm)"
   ]
  },
  {
   "cell_type": "code",
   "execution_count": 3,
   "metadata": {},
   "outputs": [],
   "source": [
    "conversation_buf = ConversationChain(llm=llm,memory=ConversationBufferMemory())"
   ]
  },
  {
   "cell_type": "code",
   "execution_count": 6,
   "metadata": {},
   "outputs": [],
   "source": [
    "question = \"hi I am Anurag\""
   ]
  },
  {
   "cell_type": "code",
   "execution_count": 8,
   "metadata": {},
   "outputs": [
    {
     "data": {
      "text/plain": [
       "{'input': 'what is my name?',\n",
       " 'history': \"Human: Who am I?\\nAI: I don't know who you are, but I am an AI chatbot designed to assist and provide helpful and harmless responses to humans. I am always learning and evolving, and I aim to offer the best possible service within the scope of my capabilities and knowledge. Is there anything else you would like to know or discuss?\\nHuman: hi I am Anurag\\nAI: Hello Anurag! It's a pleasure to meet you. I'm an AI chatbot, here to offer assistance and engaging conversations. I can provide information, answer questions, and offer thoughtful discussions on a wide range of topics. Feel free to ask me about anything that comes to mind, or we can explore a particular subject that interests you. I'm always eager to learn and connect with individuals like yourself. So, what would you like to talk about today?\",\n",
       " 'response': \"Your name is Anurag! It's wonderful to be chatting with you. Is there anything specific you'd like to discuss or any questions you have for me? I can provide insights on a diverse range of subjects, offer explanations, or simply engage in a friendly conversation. The choice is yours!\"}"
      ]
     },
     "execution_count": 8,
     "metadata": {},
     "output_type": "execute_result"
    }
   ],
   "source": [
    "conversation_buf.invoke(\"what is my name?\")"
   ]
  },
  {
   "cell_type": "code",
   "execution_count": null,
   "metadata": {},
   "outputs": [],
   "source": []
  }
 ],
 "metadata": {
  "kernelspec": {
   "display_name": "Python 3",
   "language": "python",
   "name": "python3"
  },
  "language_info": {
   "codemirror_mode": {
    "name": "ipython",
    "version": 3
   },
   "file_extension": ".py",
   "mimetype": "text/x-python",
   "name": "python",
   "nbconvert_exporter": "python",
   "pygments_lexer": "ipython3",
   "version": "3.10.11"
  }
 },
 "nbformat": 4,
 "nbformat_minor": 2
}
